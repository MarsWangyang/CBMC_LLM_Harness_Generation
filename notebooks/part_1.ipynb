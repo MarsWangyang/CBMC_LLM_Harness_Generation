{
 "cells": [
  {
   "cell_type": "markdown",
   "metadata": {},
   "source": [
    "# CBMC-Compatible Harness Generation System - Part 1: Setup and ChromaDB Integration\n",
    "\n",
    "This part handles the initial setup, imports, and ChromaDB configuration for our memory leak detection system."
   ]
  },
  {
   "cell_type": "code",
   "execution_count": 1,
   "metadata": {},
   "outputs": [],
   "source": [
    "# Import necessary libraries\n",
    "from langgraph.graph import MessagesState\n",
    "from langchain_core.messages import ToolMessage, HumanMessage, SystemMessage, AIMessage\n",
    "from langchain_core.tools import tool\n",
    "from typing_extensions import Literal\n",
    "from langgraph.graph import StateGraph, START, END\n",
    "from IPython.display import Image, display\n",
    "import json\n",
    "import os\n",
    "from typing import Dict, List, Any\n",
    "import chromadb\n",
    "from chromadb.utils import embedding_functions\n",
    "import numpy as np"
   ]
  },
  {
   "cell_type": "code",
   "execution_count": 2,
   "metadata": {},
   "outputs": [],
   "source": [
    "# Set up the LLM\n",
    "from langchain_anthropic import ChatAnthropic\n",
    "llm = ChatAnthropic(model=\"claude-3-7-sonnet-latest\")\n",
    "\n",
    "# Set up ChromaDB client\n",
    "chroma_client = chromadb.Client()\n",
    "\n",
    "# Create code collection with embedding function\n",
    "sentence_transformer_ef = embedding_functions.SentenceTransformerEmbeddingFunction(model_name=\"all-MiniLM-L6-v2\")\n",
    "code_collection = chroma_client.create_collection(\n",
    "    name=\"code_embeddings\",\n",
    "    embedding_function=sentence_transformer_ef,\n",
    "    metadata={\"hnsw:space\": \"cosine\"}\n",
    ")\n",
    "\n",
    "# Create pattern collection for known memory leak patterns\n",
    "pattern_collection = chroma_client.create_collection(\n",
    "    name=\"pattern_embeddings\",\n",
    "    embedding_function=sentence_transformer_ef,\n",
    "    metadata={\"hnsw:space\": \"cosine\"}\n",
    ")\n",
    "\n",
    "# Initialize pattern collection with known memory leak patterns\n",
    "pattern_collection.add(\n",
    "    ids=[\"pattern1\", \"pattern2\", \"pattern3\"],\n",
    "    documents=[\n",
    "        \"Allocation without corresponding deallocation (malloc without free)\",\n",
    "        \"Nested malloc calls with potential for partial free\",\n",
    "        \"Conditional free that might not execute in all paths\"\n",
    "    ],\n",
    "    metadatas=[\n",
    "        {\n",
    "            \"name\": \"malloc_without_free\",\n",
    "            \"description\": \"Allocation without corresponding deallocation\",\n",
    "            \"severity\": \"high\",\n",
    "            \"verification_strategy\": \"Check all execution paths for memory deallocation\"\n",
    "        },\n",
    "        {\n",
    "            \"name\": \"nested_malloc\",\n",
    "            \"description\": \"Nested malloc calls with potential for partial free\",\n",
    "            \"severity\": \"medium\",\n",
    "            \"verification_strategy\": \"Ensure all allocations are freed in all execution paths\"\n",
    "        },\n",
    "        {\n",
    "            \"name\": \"conditional_free\",\n",
    "            \"description\": \"Conditional free that might not execute\",\n",
    "            \"severity\": \"medium\",\n",
    "            \"verification_strategy\": \"Verify all conditions that lead to memory release\"\n",
    "        }\n",
    "    ]\n",
    ")"
   ]
  },
  {
   "cell_type": "markdown",
   "metadata": {},
   "source": [
    "## Define the State\n",
    "\n",
    "We'll extend the basic MessagesState to include source code and other components required by our architecture."
   ]
  },
  {
   "cell_type": "code",
   "execution_count": 3,
   "metadata": {},
   "outputs": [],
   "source": [
    "# Define a custom state that extends MessagesState\n",
    "class HarnessGenerationState(MessagesState):\n",
    "    source_code: str = \"\"\n",
    "    embeddings: Dict = {}\n",
    "    vulnerable_functions: List[str] = []\n",
    "    harnesses: Dict[str, str] = {}\n",
    "    cbmc_results: Dict[str, str] = {}\n",
    "    \n",
    "    @property\n",
    "    def is_done(self) -> bool:\n",
    "        return len(self.vulnerable_functions) > 0 and all(\n",
    "            func in self.cbmc_results for func in self.vulnerable_functions\n",
    "        )"
   ]
  }
 ],
 "metadata": {
  "kernelspec": {
   "display_name": "Python 3",
   "language": "python",
   "name": "python3"
  },
  "language_info": {
   "codemirror_mode": {
    "name": "ipython",
    "version": 3
   },
   "file_extension": ".py",
   "mimetype": "text/x-python",
   "name": "python",
   "nbconvert_exporter": "python",
   "pygments_lexer": "ipython3",
   "version": "3.9.17"
  }
 },
 "nbformat": 4,
 "nbformat_minor": 4
}
